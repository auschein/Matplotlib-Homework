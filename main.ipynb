{
 "cells": [
  {
   "cell_type": "code",
   "execution_count": null,
   "metadata": {},
   "outputs": [],
   "source": [
    "%matplotlib inline\n",
    "# Dependencies and Setup\n",
    "import matplotlib.pyplot as plt\n",
    "import pandas as pd\n",
    "\n",
    "# File to Load (Remember to change these)\n",
    "city_data_to_load = \"data/city_data.csv\"\n",
    "ride_data_to_load = \"data/ride_data.csv\"\n",
    "\n",
    "# Read the City and Ride Data\n",
    "citydata = pd.read_csv(city_data_to_load)\n",
    "ridedata = pd.read_csv(ride_data_to_load)\n",
    "\n",
    "# Combine the data into a single dataset\n",
    "merge_df = pd.merge(ridedata, citydata, on=\"city\", how=\"left\")\n",
    "\n",
    "# Display the data table for preview\n",
    "merge_df.head()"
   ]
  },
  {
   "cell_type": "code",
   "execution_count": null,
   "metadata": {
    "scrolled": false
   },
   "outputs": [],
   "source": [
    "#Type of City\n",
    "urbantype = merge_df[merge_df[\"type\"] == \"Urban\"].groupby([merge_df[\"city\"]])\n",
    "ruraltype = merge_df[merge_df[\"type\"] == \"Rural\"].groupby([merge_df[\"city\"]])\n",
    "suburbantype = merge_df[merge_df[\"type\"] == \"Suburban\"].groupby([merge_df[\"city\"]])\n",
    "\n",
    "#Averages fares for each city\n",
    "averagefare_urban = urbantype[\"fare\"].mean()\n",
    "averagefare_suburban = suburbantype[\"fare\"].mean()\n",
    "averagefare_rural = ruraltype[\"fare\"].mean()\n",
    "\n",
    "#Total Number of Rides Per City\n",
    "totalrides_urban = urbantype[\"ride_id\"].count()\n",
    "totalrides_suburban = suburbantype[\"ride_id\"].count()\n",
    "totalrides_rural = ruraltype[\"ride_id\"].count()\n",
    "\n",
    "#Total Number of Drivers Per City\n",
    "totaldrivers_urban = urbantype[\"driver_count\"].mean()\n",
    "totaldrivers_suburban = suburbantype[\"driver_count\"].mean()\n",
    "totaldrivers_rural = ruraltype[\"driver_count\"].mean()\n",
    "\n",
    "#Building the scatter plots for each city type\n",
    "plt.scatter(totalrides_urban, averagefare_urban, label=\"Urban\", s=totaldrivers_urban*10, color=[\"coral\"], edgecolor=\"black\", alpha = 0.75, marker=\"o\")\n",
    "plt.scatter(totalrides_rural, averagefare_rural, label=\"Rural\", s=totaldrivers_rural*10, color=[\"gold\"], edgecolor=\"black\", alpha = 0.75, marker=\"o\")\n",
    "plt.scatter(totalrides_suburban, averagefare_suburban, label=\"Suburban\", s=totaldrivers_suburban*10, color=[\"skyblue\"], edgecolor=\"black\", alpha = 0.75, marker=\"o\")\n",
    "plt.grid()\n",
    "\n",
    "#Creating scatterplot labels\n",
    "plt.xlabel(\"Total Number of Rides(Per City)\")\n",
    "plt.ylabel(\"Average Far($)\")\n",
    "plt.title(\"Pyber Ride Sharing Data(2016)\")\n",
    "\n",
    "#Creating legend w/sizes\n",
    "legend=plt.legend(fontsize = 10, title = \"Types of Cities\")\n",
    "legend.legendHandles[0]._sizes=[50]\n",
    "legend.legendHandles[1]._sizes=[50]\n",
    "legend.legendHandles[2]._sizes=[50]\n",
    "\n",
    "#Incorporating a text label\n",
    "plt.text(43,30, \"Note: \\nThe Ciricle Size Correlates With The Driver Count Per City.\")\n",
    "\n",
    "#Saving the figure\n",
    "plt.savefig(\"images/PyberScatterPicture.png\", bbox_inches = \"tight\")\n",
    "plt.show()"
   ]
  },
  {
   "cell_type": "markdown",
   "metadata": {},
   "source": [
    "## Total Fares by City Type"
   ]
  },
  {
   "cell_type": "code",
   "execution_count": null,
   "metadata": {
    "scrolled": true
   },
   "outputs": [],
   "source": [
    "# Calculate Type Percents\n",
    "pietype = merge_df.groupby([\"type\"])\n",
    "sumfare = pietype[\"fare\"].sum()\n",
    "\n",
    "# Build Pie Chart\n",
    "labels = [\"Rural\", \"Suburban\", \"Urban\"]\n",
    "colors = [\"gold\", \"skyblue\", \"coral\"]\n",
    "explode = (0,0,0.2)\n",
    "plt.pie(sumfare, labels=labels, explode=explode, colors=colors, autopct=\"%1.1f%%\", shadow=True, startangle=150)\n",
    "plt.title(\"% of Total Fares by City Type\")\n",
    "plt.axis(\"auto\")\n",
    "\n",
    "# Save Figure\n",
    "plt.savefig(\"images/PyberTotalFaresbyCityType.png\")\n",
    "plt.show()\n",
    "\n",
    "# Show Figure\n",
    "plt.show()"
   ]
  },
  {
   "cell_type": "markdown",
   "metadata": {},
   "source": [
    "## Total Rides by City Type"
   ]
  },
  {
   "cell_type": "code",
   "execution_count": null,
   "metadata": {},
   "outputs": [],
   "source": [
    "# Calculate Ride Percents\n",
    "riderscount = pietype[\"ride_id\"].count()\n",
    "\n",
    "# Build Pie Chart\n",
    "labels = [\"Rural\", \"Suburban\", \"Urban\"]\n",
    "colors = [\"gold\", \"skyblue\", \"coral\"]\n",
    "explode = (0,0,0.2)\n",
    "plt.pie(riderscount, labels=labels, explode=explode, colors=colors, autopct=\"%1.1f%%\", shadow=True, startangle=150)\n",
    "plt.title(\"% of Total Rides by City Type\")\n",
    "plt.axis(\"auto\")\n",
    "\n",
    "# Save Figure\n",
    "plt.savefig(\"images/PyberTotalRidesbyCityType.png\")\n",
    "plt.show()\n"
   ]
  },
  {
   "cell_type": "markdown",
   "metadata": {},
   "source": [
    "## Total Drivers by City Type"
   ]
  },
  {
   "cell_type": "code",
   "execution_count": null,
   "metadata": {},
   "outputs": [],
   "source": [
    "# Calculate Driver Percents\n",
    "piedrivers = citydata.groupby([\"type\"])\n",
    "totaldrivers = piedrivers[\"driver_count\"].sum()\n",
    "\n",
    "# Build Pie Charts\n",
    "labels = [\"Rural\", \"Suburban\", \"Urban\"]\n",
    "colors = [\"gold\", \"skyblue\", \"coral\"]\n",
    "explode = (0,0,0.2)\n",
    "plt.pie(totaldrivers, labels=labels, explode=explode, colors=colors, autopct=\"%1.1f%%\", shadow=True, startangle=160)\n",
    "plt.title(\"% of Total Drivers by City Type\")\n",
    "plt.axis(\"auto\")\n",
    "\n",
    "# Save Figure\n",
    "plt.savefig(\"images/PyberTotalDriversbyCityType.png\")\n",
    "plt.show()"
   ]
  }
 ],
 "metadata": {
  "anaconda-cloud": {},
  "kernelspec": {
   "display_name": "Conda [PythonData]",
   "language": "python",
   "name": "pythondata"
  },
  "language_info": {
   "codemirror_mode": {
    "name": "ipython",
    "version": 3
   },
   "file_extension": ".py",
   "mimetype": "text/x-python",
   "name": "python",
   "nbconvert_exporter": "python",
   "pygments_lexer": "ipython3",
   "version": "3.7.3"
  },
  "latex_envs": {
   "LaTeX_envs_menu_present": true,
   "autoclose": false,
   "autocomplete": true,
   "bibliofile": "biblio.bib",
   "cite_by": "apalike",
   "current_citInitial": 1,
   "eqLabelWithNumbers": true,
   "eqNumInitial": 1,
   "hotkeys": {
    "equation": "Ctrl-E",
    "itemize": "Ctrl-I"
   },
   "labels_anchors": false,
   "latex_user_defs": false,
   "report_style_numbering": false,
   "user_envs_cfg": false
  }
 },
 "nbformat": 4,
 "nbformat_minor": 2
}
